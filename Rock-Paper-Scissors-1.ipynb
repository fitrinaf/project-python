{
 "cells": [
  {
   "cell_type": "markdown",
   "metadata": {},
   "source": [
    "# Rock-Paper-Scissors"
   ]
  },
  {
   "cell_type": "code",
   "execution_count": null,
   "metadata": {},
   "outputs": [],
   "source": [
    "import random\n",
    "\n",
    "input(\"Welcome to Rock, Paper, Scissors! Press Enter to start.\")\n",
    "print()\n",
    "user_wins = 0\n",
    "computer_wins = 0\n",
    "\n",
    "choices = [\"rock\", \"paper\", \"scissors\"]\n",
    "\n",
    "while True:\n",
    "  random_index = random.randint(0,2)\n",
    "  cpu_choice = choices[random_index]\n",
    "    \n",
    "  user_choice = input(\"Rock, Paper, or Scissors? \").lower()\n",
    "  while user_choice not in choices:\n",
    "    user_choice = input(\"That is not a valid choice. Please try again: \").lower()\n",
    "    \n",
    "  print()\n",
    "  print(\"Your choice:\", user_choice)\n",
    "  print(\"Computer's choice:\", cpu_choice)\n",
    "  print()\n",
    "    \n",
    "  if user_choice == 'rock':\n",
    "    if cpu_choice == 'rock':\n",
    "      print(\"It's a tie!\")\n",
    "    elif cpu_choice == 'scissors':\n",
    "      print(\"You win!\")\n",
    "      user_wins+=1\n",
    "    elif cpu_choice == 'paper':\n",
    "      print(\"You lose!\")\n",
    "      computer_wins+=1\n",
    "  elif user_choice == 'paper':\n",
    "    if cpu_choice == 'paper':\n",
    "      print(\"It's a tie!\")\n",
    "    elif cpu_choice == 'rock':\n",
    "      print(\"You win!\")\n",
    "      user_wins+=1\n",
    "    elif cpu_choice == 'scissors':\n",
    "      print(\"You lose!\")\n",
    "      computer_wins+=1\n",
    "  elif user_choice == 'scissors':\n",
    "    if cpu_choice == 'scissors':\n",
    "      print(\"It's a tie!\")\n",
    "    elif cpu_choice == 'paper':\n",
    "      print(\"You win!\")\n",
    "      user_wins+=1\n",
    "    elif cpu_choice == 'rock':\n",
    "      print(\"You lose!\")\n",
    "      computer_wins+=1\n",
    "        \n",
    "  print()\n",
    "  print(\"You have \"+str(user_wins)+\" wins\")\n",
    "  print(\"The computer has \"+str(computer_wins)+\" wins\")\n",
    "  print()\n",
    "\n",
    "  repeat = input(\"Play again? (Y/N) \").lower()\n",
    "  while repeat not in ['y', 'n']:\n",
    "    repeat = input(\"That is not a valid choice. Please try again: \").lower()\n",
    "  \n",
    "  if repeat == 'n':\n",
    "    print(\"Bye bye\")   \n",
    "    break\n",
    "\n",
    "  print(\"\\n----------------------------\\n\")\n",
    "\n"
   ]
  },
  {
   "cell_type": "code",
   "execution_count": null,
   "metadata": {},
   "outputs": [],
   "source": []
  }
 ],
 "metadata": {
  "kernelspec": {
   "display_name": "Python 3 (ipykernel)",
   "language": "python",
   "name": "python3"
  },
  "language_info": {
   "codemirror_mode": {
    "name": "ipython",
    "version": 3
   },
   "file_extension": ".py",
   "mimetype": "text/x-python",
   "name": "python",
   "nbconvert_exporter": "python",
   "pygments_lexer": "ipython3",
   "version": "3.9.7"
  }
 },
 "nbformat": 4,
 "nbformat_minor": 4
}
