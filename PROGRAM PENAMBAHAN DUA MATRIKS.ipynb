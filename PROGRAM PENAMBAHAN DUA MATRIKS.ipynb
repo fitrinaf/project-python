{
 "cells": [
  {
   "cell_type": "code",
   "execution_count": 9,
   "id": "82bbf732",
   "metadata": {},
   "outputs": [
    {
     "name": "stdout",
     "output_type": "stream",
     "text": [
      "Program Penambahan Dua Matriks\n",
      " \n",
      "Matriks A =  [[10, 6], [9, 8]]\n",
      "Matriks B =  [[4, 6], [3, 1]]\n",
      "\n",
      "Hasil Penjumlahan Matriks A & B\n",
      "14  12  \n",
      "12  9  \n"
     ]
    }
   ],
   "source": [
    "# Fitri Nur Afifah (10121491)\n",
    "# 1KA26\n",
    "\n",
    "print('Program Penambahan Dua Matriks')\n",
    "print(' ')\n",
    "\n",
    "A = [\n",
    "    [10, 6],\n",
    "    [9, 8],\n",
    "]\n",
    "\n",
    "B = [\n",
    "    [4, 6],\n",
    "    [3, 1],\n",
    "]\n",
    "\n",
    "print('Matriks A = ', A)\n",
    "print('Matriks B = ', B)\n",
    "print('')\n",
    "print('Hasil Penjumlahan Matriks A & B')\n",
    "\n",
    "for x in range (0, len(A)):\n",
    "    for y in range (0, len (A[0])):\n",
    "        print (A[x] [y] + B[x] [y], end = '  '),\n",
    "    print('')  "
   ]
  },
  {
   "cell_type": "code",
   "execution_count": null,
   "id": "00ef9df0",
   "metadata": {},
   "outputs": [],
   "source": []
  }
 ],
 "metadata": {
  "kernelspec": {
   "display_name": "Python 3 (ipykernel)",
   "language": "python",
   "name": "python3"
  },
  "language_info": {
   "codemirror_mode": {
    "name": "ipython",
    "version": 3
   },
   "file_extension": ".py",
   "mimetype": "text/x-python",
   "name": "python",
   "nbconvert_exporter": "python",
   "pygments_lexer": "ipython3",
   "version": "3.9.7"
  }
 },
 "nbformat": 4,
 "nbformat_minor": 5
}
