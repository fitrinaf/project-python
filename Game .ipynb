{
 "cells": [
  {
   "cell_type": "markdown",
   "id": "c3547b81",
   "metadata": {},
   "source": [
    "# Fitri Nur Afifah ( 10121491)\n",
    "# 1KA26"
   ]
  },
  {
   "cell_type": "markdown",
   "id": "6b52aed4",
   "metadata": {},
   "source": [
    "# Mind Reader Game"
   ]
  },
  {
   "cell_type": "code",
   "execution_count": 5,
   "id": "bf7840d1",
   "metadata": {},
   "outputs": [
    {
     "data": {
      "application/vnd.jupyter.widget-view+json": {
       "model_id": "2420ef59cbb34d4ab2ca5d392a9866c1",
       "version_major": 2,
       "version_minor": 0
      },
      "text/plain": [
       "VBox(children=(HBox(children=(VBox(children=(IntProgress(value=0, bar_style='success', description='You:', max…"
      ]
     },
     "metadata": {},
     "output_type": "display_data"
    }
   ],
   "source": [
    "%run sourcecode.ipynb"
   ]
  }
 ],
 "metadata": {
  "kernelspec": {
   "display_name": "Python 3 (ipykernel)",
   "language": "python",
   "name": "python3"
  },
  "language_info": {
   "codemirror_mode": {
    "name": "ipython",
    "version": 3
   },
   "file_extension": ".py",
   "mimetype": "text/x-python",
   "name": "python",
   "nbconvert_exporter": "python",
   "pygments_lexer": "ipython3",
   "version": "3.9.7"
  }
 },
 "nbformat": 4,
 "nbformat_minor": 5
}
