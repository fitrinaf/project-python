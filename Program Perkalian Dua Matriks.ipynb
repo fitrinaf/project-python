{
 "cells": [
  {
   "cell_type": "code",
   "execution_count": null,
   "id": "a37451e2",
   "metadata": {},
   "outputs": [],
   "source": [
    "# Fitri Nur Afifah (10121491)\n",
    "# 1KA26"
   ]
  },
  {
   "cell_type": "code",
   "execution_count": 8,
   "id": "468e752e",
   "metadata": {},
   "outputs": [
    {
     "name": "stdout",
     "output_type": "stream",
     "text": [
      "Program Perkalian Dua Matriks\n",
      " \n",
      "Matriks a=  [[2, 7], [3, 9]]\n",
      "Matriks b=  [[1, 5], [6, 6]]\n",
      " \n",
      "Hasil Perkalian Matriks a & b =  [[44, 52], [57, 69]]\n"
     ]
    }
   ],
   "source": [
    "print('Program Perkalian Dua Matriks')\n",
    "print(' ')\n",
    "\n",
    "a = [\n",
    "    [2, 7],\n",
    "    [3, 9],\n",
    "]\n",
    "\n",
    "b = [\n",
    "    [1, 5],\n",
    "    [6, 6],\n",
    "]\n",
    "\n",
    "c = [\n",
    "    [0, 0],\n",
    "    [0, 0],\n",
    "]\n",
    "\n",
    "c[0][0] = (a[0][0] * b[0][0]) + (a[0][1] * b[1][0])\n",
    "c[0][1] = (a[0][0] * b[0][1]) + (a[0][1] * b[1][1])\n",
    "c[1][0] = (a[1][0] * b[0][0]) + (a[1][1] * b[1][0])\n",
    "c[1][1] = (a[1][0] * b[0][1]) + (a[1][1] * b[1][1])\n",
    "\n",
    "print('Matriks a= ',a)\n",
    "print('Matriks b= ',b)\n",
    "print(' ')\n",
    "print('Hasil Perkalian Matriks a & b = ', c)"
   ]
  },
  {
   "cell_type": "code",
   "execution_count": null,
   "id": "9224fc00",
   "metadata": {},
   "outputs": [],
   "source": []
  }
 ],
 "metadata": {
  "kernelspec": {
   "display_name": "Python 3 (ipykernel)",
   "language": "python",
   "name": "python3"
  },
  "language_info": {
   "codemirror_mode": {
    "name": "ipython",
    "version": 3
   },
   "file_extension": ".py",
   "mimetype": "text/x-python",
   "name": "python",
   "nbconvert_exporter": "python",
   "pygments_lexer": "ipython3",
   "version": "3.9.7"
  }
 },
 "nbformat": 4,
 "nbformat_minor": 5
}
