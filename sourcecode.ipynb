{
 "cells": [
  {
   "cell_type": "markdown",
   "id": "8e024333",
   "metadata": {},
   "source": [
    "# Fitri Nur Afifah (10121491)\n",
    "# 1KA26"
   ]
  },
  {
   "cell_type": "code",
   "execution_count": 48,
   "id": "a1b3cbdf",
   "metadata": {},
   "outputs": [],
   "source": [
    "from ipywidgets import *\n",
    "import numpy as np"
   ]
  },
  {
   "cell_type": "code",
   "execution_count": 49,
   "id": "086ebca2",
   "metadata": {},
   "outputs": [
    {
     "data": {
      "application/vnd.jupyter.widget-view+json": {
       "model_id": "e8c8b49165c54653bdd98a45e64707bb",
       "version_major": 2,
       "version_minor": 0
      },
      "text/plain": [
       "HBox(children=(Button(description='0', style=ButtonStyle()), Button(description='1', style=ButtonStyle())))"
      ]
     },
     "metadata": {},
     "output_type": "display_data"
    }
   ],
   "source": [
    "btn_zero = Button( description='0' )\n",
    "btn_one = Button( description='1' )\n",
    "btns = HBox([btn_zero, btn_one])\n",
    "btns"
   ]
  },
  {
   "cell_type": "code",
   "execution_count": 50,
   "id": "6bb2d49a",
   "metadata": {
    "scrolled": true
   },
   "outputs": [
    {
     "data": {
      "application/vnd.jupyter.widget-view+json": {
       "model_id": "f250a33b08b141f39768aefe95d7ed58",
       "version_major": 2,
       "version_minor": 0
      },
      "text/plain": [
       "VBox(children=(IntProgress(value=0, bar_style='success', description='You:', max=30), IntProgress(value=0, bar…"
      ]
     },
     "metadata": {},
     "output_type": "display_data"
    }
   ],
   "source": [
    "usr_score = IntProgress( value=0, min=0, max=30, description='You:', bar_style='success')\n",
    "bot_score = IntProgress( value=0, min=0, max=30, description='Bot:', bar_style='danger')\n",
    "scoreboard = VBox( [usr_score, bot_score] )\n",
    "scoreboard"
   ]
  },
  {
   "cell_type": "code",
   "execution_count": 51,
   "id": "a2021397",
   "metadata": {},
   "outputs": [
    {
     "data": {
      "application/vnd.jupyter.widget-view+json": {
       "model_id": "c29280e2ca89476d915c8c9f97f4ea45",
       "version_major": 2,
       "version_minor": 0
      },
      "text/plain": [
       "HTML(value=\"<h1 style='color:green'> You Win!</h1>\")"
      ]
     },
     "metadata": {},
     "output_type": "display_data"
    }
   ],
   "source": [
    "final_msg = HTML(\"<h1 style='color:green'> You Win!</h1>\")\n",
    "final_msg"
   ]
  },
  {
   "cell_type": "code",
   "execution_count": 52,
   "id": "8290e238",
   "metadata": {},
   "outputs": [
    {
     "data": {
      "application/vnd.jupyter.widget-view+json": {
       "model_id": "b8c09522e62843468476b1b67364c18d",
       "version_major": 2,
       "version_minor": 0
      },
      "text/plain": [
       "VBox(children=(HBox(children=(VBox(children=(IntProgress(value=0, bar_style='success', description='You:', max…"
      ]
     },
     "metadata": {},
     "output_type": "display_data"
    }
   ],
   "source": [
    "game_box = VBox([ HBox( [scoreboard, final_msg] ),\n",
    "                  btns\n",
    "                ])\n",
    "game_box"
   ]
  },
  {
   "cell_type": "code",
   "execution_count": 53,
   "id": "02221c47",
   "metadata": {},
   "outputs": [],
   "source": [
    "final_msg.layout.visibility = \"hidden\""
   ]
  },
  {
   "cell_type": "code",
   "execution_count": 54,
   "id": "30d7f991",
   "metadata": {},
   "outputs": [],
   "source": [
    "def click_zero(b):\n",
    "    update_game(0)\n",
    "btn_zero.on_click( click_zero )"
   ]
  },
  {
   "cell_type": "code",
   "execution_count": 55,
   "id": "e159f44c",
   "metadata": {},
   "outputs": [],
   "source": [
    "def click_one(b):\n",
    "    update_game(1)\n",
    "btn_one.on_click( click_one )"
   ]
  },
  {
   "cell_type": "code",
   "execution_count": 56,
   "id": "23d24427",
   "metadata": {},
   "outputs": [],
   "source": [
    "def update_game( usr_choice ):\n",
    "    prob = sum( usr_history ) / len( usr_history )\n",
    "    comp_choice = np.random.binomial(1, prob, 1)[0]\n",
    "    usr_history.append( usr_choice )\n",
    "    \n",
    "    if comp_choice == usr_choice:\n",
    "        bot_score.value += 1\n",
    "    else:\n",
    "        usr_score.value += 1\n",
    "        \n",
    "    if usr_score.value == 30 or bot_score.value == 30:\n",
    "        if bot_score.value == 30:\n",
    "            final_msg.value = \"<h1 style='color:red'> You Loose!</h1>\"\n",
    "        final_msg.layout.visibility = \"visible\"\n",
    "        btn_zero.disabled = True\n",
    "        btn_one.disabled = True\n",
    "        \n",
    "    return"
   ]
  },
  {
   "cell_type": "code",
   "execution_count": 57,
   "id": "3ec256d8",
   "metadata": {},
   "outputs": [],
   "source": [
    "usr_history = []"
   ]
  },
  {
   "cell_type": "code",
   "execution_count": 58,
   "id": "2e8f0ec3",
   "metadata": {},
   "outputs": [],
   "source": [
    "usr_history.append(1)"
   ]
  },
  {
   "cell_type": "code",
   "execution_count": 59,
   "id": "9a499c92",
   "metadata": {},
   "outputs": [],
   "source": [
    "usr_history.append(0)"
   ]
  },
  {
   "cell_type": "code",
   "execution_count": 60,
   "id": "47c13159",
   "metadata": {},
   "outputs": [
    {
     "data": {
      "text/plain": [
       "[1, 0]"
      ]
     },
     "execution_count": 60,
     "metadata": {},
     "output_type": "execute_result"
    }
   ],
   "source": [
    "usr_history"
   ]
  },
  {
   "cell_type": "code",
   "execution_count": 61,
   "id": "d240c58f",
   "metadata": {},
   "outputs": [
    {
     "data": {
      "text/plain": [
       "1"
      ]
     },
     "execution_count": 61,
     "metadata": {},
     "output_type": "execute_result"
    }
   ],
   "source": [
    "sum(usr_history)"
   ]
  },
  {
   "cell_type": "code",
   "execution_count": 62,
   "id": "f304a3e0",
   "metadata": {},
   "outputs": [
    {
     "data": {
      "text/plain": [
       "2"
      ]
     },
     "execution_count": 62,
     "metadata": {},
     "output_type": "execute_result"
    }
   ],
   "source": [
    "len(usr_history)"
   ]
  },
  {
   "cell_type": "code",
   "execution_count": 63,
   "id": "e6177cc3",
   "metadata": {},
   "outputs": [
    {
     "data": {
      "text/plain": [
       "0.5"
      ]
     },
     "execution_count": 63,
     "metadata": {},
     "output_type": "execute_result"
    }
   ],
   "source": [
    "prob = sum( usr_history ) / len( usr_history )\n",
    "prob"
   ]
  },
  {
   "cell_type": "code",
   "execution_count": 64,
   "id": "83f976eb",
   "metadata": {},
   "outputs": [
    {
     "data": {
      "text/plain": [
       "1"
      ]
     },
     "execution_count": 64,
     "metadata": {},
     "output_type": "execute_result"
    }
   ],
   "source": [
    "comp_choice = np.random.binomial(1, prob)\n",
    "comp_choice"
   ]
  },
  {
   "cell_type": "code",
   "execution_count": 65,
   "id": "f349197c",
   "metadata": {},
   "outputs": [
    {
     "data": {
      "application/vnd.jupyter.widget-view+json": {
       "model_id": "b8c09522e62843468476b1b67364c18d",
       "version_major": 2,
       "version_minor": 0
      },
      "text/plain": [
       "VBox(children=(HBox(children=(VBox(children=(IntProgress(value=0, bar_style='success', description='You:', max…"
      ]
     },
     "metadata": {},
     "output_type": "display_data"
    }
   ],
   "source": [
    "display( game_box)"
   ]
  }
 ],
 "metadata": {
  "kernelspec": {
   "display_name": "Python 3 (ipykernel)",
   "language": "python",
   "name": "python3"
  },
  "language_info": {
   "codemirror_mode": {
    "name": "ipython",
    "version": 3
   },
   "file_extension": ".py",
   "mimetype": "text/x-python",
   "name": "python",
   "nbconvert_exporter": "python",
   "pygments_lexer": "ipython3",
   "version": "3.9.7"
  }
 },
 "nbformat": 4,
 "nbformat_minor": 5
}
