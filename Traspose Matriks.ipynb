{
 "cells": [
  {
   "cell_type": "code",
   "execution_count": 8,
   "id": "53f4b8ad",
   "metadata": {},
   "outputs": [
    {
     "name": "stdout",
     "output_type": "stream",
     "text": [
      "matriks_a : \n",
      "[1, 4, 9]\n",
      "[9, 7, 9]\n",
      "transpose matriks_a : \n",
      "[1, 9]\n",
      "[4, 7]\n",
      "[9, 9]\n",
      "\n",
      "matriks_b : \n",
      "[4, 9, 3]\n",
      "[1, 3, 2]\n",
      "transpose matriks_b : \n",
      "[4, 1]\n",
      "[9, 3]\n",
      "[3, 2]\n"
     ]
    }
   ],
   "source": [
    "# Fitri Nur Afifah (10121491)\n",
    "# 1KA26\n",
    "\n",
    "def cetak_matriks(matriks):\n",
    "    for row in matriks:\n",
    "        print(row)\n",
    " \n",
    "def panjang_matriks(matriks):\n",
    "    return len(matriks[0])\n",
    " \n",
    "def lebar_matriks(matriks):\n",
    "    return len(matriks)\n",
    " \n",
    "def transpose_matriks(mat_a):\n",
    "    temp_row = []\n",
    "    temp_mat = []\n",
    " \n",
    "    for i in range(0, panjang_matriks(mat_a)):\n",
    "        for j in range(0, lebar_matriks(mat_a)):\n",
    "            temp_row.append( mat_a[j][i])\n",
    "        temp_mat.append(temp_row  )\n",
    "        temp_row = []\n",
    "    return temp_mat\n",
    " \n",
    "matriks_a = [[1, 4, 9], [9, 7, 9]]\n",
    "matriks_b = [[4, 9, 3], [1, 3, 2]]\n",
    " \n",
    "print(\"matriks_a : \")\n",
    "cetak_matriks(matriks_a)\n",
    "print(\"transpose matriks_a : \")\n",
    "trp_mat_a = transpose_matriks(matriks_a)\n",
    "cetak_matriks(trp_mat_a)\n",
    " \n",
    "print(\"\\nmatriks_b : \")\n",
    "cetak_matriks(matriks_b)\n",
    "print(\"transpose matriks_b : \")\n",
    "trp_mat_b = transpose_matriks(matriks_b)\n",
    "cetak_matriks(trp_mat_b)"
   ]
  },
  {
   "cell_type": "code",
   "execution_count": null,
   "id": "8e6e852f",
   "metadata": {},
   "outputs": [],
   "source": []
  },
  {
   "cell_type": "code",
   "execution_count": null,
   "id": "7bfed6ed",
   "metadata": {},
   "outputs": [],
   "source": []
  },
  {
   "cell_type": "code",
   "execution_count": null,
   "id": "7f3fe38f",
   "metadata": {},
   "outputs": [],
   "source": []
  }
 ],
 "metadata": {
  "kernelspec": {
   "display_name": "Python 3 (ipykernel)",
   "language": "python",
   "name": "python3"
  },
  "language_info": {
   "codemirror_mode": {
    "name": "ipython",
    "version": 3
   },
   "file_extension": ".py",
   "mimetype": "text/x-python",
   "name": "python",
   "nbconvert_exporter": "python",
   "pygments_lexer": "ipython3",
   "version": "3.9.7"
  }
 },
 "nbformat": 4,
 "nbformat_minor": 5
}
